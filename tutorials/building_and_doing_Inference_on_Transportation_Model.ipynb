{
  "cells": [
    {
      "attachments": {},
      "cell_type": "markdown",
      "metadata": {
        "colab_type": "text",
        "id": "view-in-github"
      },
      "source": [
        "<a href=\"https://colab.research.google.com/github/robert-altdeep/causalML/blob/update-transportation-example/Building_and_doing_Inference_on_Transportation_Model.ipynb\" target=\"_parent\"><img src=\"https://colab.research.google.com/assets/colab-badge.svg\" alt=\"Open In Colab\"/></a>"
      ]
    },
    {
      "cell_type": "code",
      "execution_count": 10,
      "metadata": {
        "id": "QcTbNSfEjM3t"
      },
      "outputs": [],
      "source": [
        "import pandas as pd\n",
        "from pgmpy.models import BayesianModel\n",
        "from pgmpy.estimators import BayesianEstimator\n",
        "from pgmpy.inference import BeliefPropagation\n",
        "from pgmpy.inference import VariableElimination\n",
        "import networkx as nx\n",
        "import matplotlib.pyplot as plt\n"
      ]
    },
    {
      "attachments": {},
      "cell_type": "markdown",
      "metadata": {
        "id": "oFHCZaucjeVD"
      },
      "source": [
        "**Step 1**: Build the transportation model."
      ]
    },
    {
      "cell_type": "code",
      "execution_count": 11,
      "metadata": {
        "colab": {
          "base_uri": "https://localhost:8080/",
          "height": 376
        },
        "id": "tGJWOI9-_KlO",
        "outputId": "e78c48f0-3f02-4342-8019-e3aed9020d49"
      },
      "outputs": [
        {
          "data": {
            "image/png": "[encoded data removed]",
            "text/plain": [
              "<Figure size 640x480 with 1 Axes>"
            ]
          },
          "metadata": {},
          "output_type": "display_data"
        }
      ],
      "source": [
        "model = BayesianModel(\n",
        "    [\n",
        "        ('A', 'E'),\n",
        "        ('S', 'E'),\n",
        "        ('E', 'O'),\n",
        "        ('E', 'R'),\n",
        "        ('O', 'T'),\n",
        "        ('R', 'T')\n",
        "    ]\n",
        ")\n",
        "pos = nx.circular_layout(model)\n",
        "nx.draw(model, with_labels=True, pos=pos)\n",
        "plt.show()"
      ]
    },
    {
      "attachments": {},
      "cell_type": "markdown",
      "metadata": {
        "id": "iYtnlYHAjkUs"
      },
      "source": [
        "## Step 2: Train a causal graphical model on the causal DAG.\n",
        "\n",
        "We can train a causal graphica model on a causal DAG structure.  In this case we'll download training data and train the parameters of the conditional probability distribution of each node give its parents in the DAG.  The training data looks as follows."
      ]
    },
    {
      "cell_type": "code",
      "execution_count": 12,
      "metadata": {
        "id": "fR474t5XkRNR"
      },
      "outputs": [
        {
          "name": "stdout",
          "output_type": "stream",
          "text": [
            "         A  S     E    O      R      T\n",
            "0    adult  F  high  emp  small  train\n",
            "1    young  M  high  emp    big    car\n",
            "2    adult  M   uni  emp    big  other\n",
            "3      old  F   uni  emp    big    car\n",
            "4    young  F   uni  emp    big    car\n",
            "..     ... ..   ...  ...    ...    ...\n",
            "495  young  M  high  emp    big  other\n",
            "496  adult  M  high  emp    big    car\n",
            "497  young  M  high  emp  small  train\n",
            "498  young  M  high  emp  small    car\n",
            "499  adult  M  high  emp  small  other\n",
            "\n",
            "[500 rows x 6 columns]\n"
          ]
        }
      ],
      "source": [
        "survey_url = \"https://raw.githubusercontent.com/altdeep/causalML/master/datasets/transportation_survey.csv\"\n",
        "data = pd.read_csv(survey_url)\n",
        "print(data)"
      ]
    },
    {
      "attachments": {},
      "cell_type": "markdown",
      "metadata": {
        "id": "A-WU8oXzkSJ-"
      },
      "source": [
        "All of the variables are categorical.  So we'll use conditional probability tables to represent the conditional probability distributions.  We'll use the date to fit the parameters of these tables.\n",
        "\n",
        "We fit using `BayesianEstimator`, which uses Bayesian estimation of each parameter using the [Dirichlet conjugate prior](https://en.wikipedia.org/wiki/Dirichlet_distribution#Conjugate_prior_of_the_Dirichlet_distribution).  If you are unfamiliar with the technique, you can think of it as [an additive smoothing approach](https://en.wikipedia.org/wiki/Additive_smoothing) that prevents us from getting parameter estimates of 0 or 1 in cases where the data is sparse.  The default estimation method for the `model.fit` method is [maximum likelihood estimation](https://en.wikipedia.org/wiki/Maximum_likelihood_estimation).  Note that the weight learning/parameter fitting technique is purely a statistical/computation concern, it has nothing to do with the causal elements of the analysis."
      ]
    },
    {
      "cell_type": "code",
      "execution_count": 13,
      "metadata": {
        "colab": {
          "base_uri": "https://localhost:8080/"
        },
        "id": "LNaZR1ELz1Og",
        "outputId": "25ee3632-6260-4176-f81d-066a48fdb1d6"
      },
      "outputs": [
        {
          "name": "stdout",
          "output_type": "stream",
          "text": [
            "+---------+----------------------+----------------------+\n",
            "| E       | E(high)              | E(uni)               |\n",
            "+---------+----------------------+----------------------+\n",
            "| O(emp)  | 0.9786324786324786   | 0.9705882352941176   |\n",
            "+---------+----------------------+----------------------+\n",
            "| O(self) | 0.021367521367521368 | 0.029411764705882353 |\n",
            "+---------+----------------------+----------------------+\n"
          ]
        }
      ],
      "source": [
        "\n",
        "model.fit(data, estimator=BayesianEstimator)\n",
        "\n",
        "# Print out CPD for variable \"O\"\n",
        "print(model.get_cpds()[3])"
      ]
    },
    {
      "attachments": {},
      "cell_type": "markdown",
      "metadata": {
        "id": "l2oGLml9mz_b"
      },
      "source": [
        "In canonical ways of learning about causal inference, students have to learn various statistical inference techniques for various types of causal analysis.\n",
        "\n",
        "Yet a distinctive trend in machine learning is the commodification of training and inference.  A great example is the probabilistic graphical modeling software comes with probabilistic inference algorithms that will generally work without any user input once we've specified the model.  If we implement a causal graphical model, we can use these algorithms for causal inference.\n",
        "\n",
        "Two prime examples of such algorithms are [variable elimination](https://en.wikipedia.org/wiki/Variable_elimination) and [belief propagation](https://en.wikipedia.org/wiki/Belief_propagation).  "
      ]
    },
    {
      "cell_type": "code",
      "execution_count": 14,
      "metadata": {
        "colab": {
          "base_uri": "https://localhost:8080/"
        },
        "id": "gn6Ic-hnAKpM",
        "outputId": "3c1a7787-9cca-4d83-ee50-bc45d7943059"
      },
      "outputs": [
        {
          "name": "stdout",
          "output_type": "stream",
          "text": [
            "+----------+----------+\n",
            "| R        |   phi(R) |\n",
            "+==========+==========+\n",
            "| R(big)   |   0.6787 |\n",
            "+----------+----------+\n",
            "| R(small) |   0.3213 |\n",
            "+----------+----------+\n"
          ]
        },
        {
          "name": "stderr",
          "output_type": "stream",
          "text": [
            "/Users/jprusso/github/causalML/.venv/lib/python3.9/site-packages/pgmpy/models/BayesianModel.py:8: FutureWarning: BayesianModel has been renamed to BayesianNetwork. Please use BayesianNetwork class, BayesianModel will be removed in future.\n",
            "  warnings.warn(\n"
          ]
        }
      ],
      "source": [
        "inference = VariableElimination(model)\n",
        "query_result = inference.query(['R'], evidence={'T': 'train'})\n",
        "print(query_result)"
      ]
    },
    {
      "cell_type": "code",
      "execution_count": 15,
      "metadata": {
        "colab": {
          "base_uri": "https://localhost:8080/"
        },
        "id": "m1nREL-4JAHL",
        "outputId": "5c1efbce-b707-4d5e-9a5c-76b28b20d386"
      },
      "outputs": [
        {
          "name": "stdout",
          "output_type": "stream",
          "text": [
            "+----------+----------+\n",
            "| A        |   phi(A) |\n",
            "+==========+==========+\n",
            "| A(adult) |   0.3921 |\n",
            "+----------+----------+\n",
            "| A(old)   |   0.1481 |\n",
            "+----------+----------+\n",
            "| A(young) |   0.4598 |\n",
            "+----------+----------+\n"
          ]
        }
      ],
      "source": [
        "inference = BeliefPropagation(model)\n",
        "query_result = inference.query(['A'], evidence={'T': 'train'})\n",
        "print(query_result)"
      ]
    },
    {
      "attachments": {},
      "cell_type": "markdown",
      "metadata": {
        "id": "zu9JfF1epf8s"
      },
      "source": [
        "To learn more about inference with graphical models, view [part 2 of Daphne Koller's course on graphical models](https://www.coursera.org/learn/probabilistic-graphical-models-2-inference).\n",
        "\n",
        "We can also implement causal models in modern probabilistic programming languages, which are more flexible that probabilistic graphical models.  Some of these languages implement cutting-edge inference algorithms that make use of deep learning technology, such as [Hamiltonian Monte Carlo](https://en.wikipedia.org/wiki/Hamiltonian_Monte_Carlo) and [variational inference](https://en.wikipedia.org/wiki/Variational_Bayesian_methods)."
      ]
    }
  ],
  "metadata": {
    "colab": {
      "include_colab_link": true,
      "name": "Building and doing Inference on Transportation Model.ipynb",
      "provenance": []
    },
    "kernelspec": {
      "display_name": "Python 3",
      "name": "python3"
    },
    "language_info": {
      "codemirror_mode": {
        "name": "ipython",
        "version": 3
      },
      "file_extension": ".py",
      "mimetype": "text/x-python",
      "name": "python",
      "nbconvert_exporter": "python",
      "pygments_lexer": "ipython3",
      "version": "3.9.15"
    }
  },
  "nbformat": 4,
  "nbformat_minor": 0
}
